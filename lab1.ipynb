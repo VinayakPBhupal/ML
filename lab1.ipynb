{
 "cells": [
  {
   "cell_type": "code",
   "execution_count": 1,
   "metadata": {},
   "outputs": [
    {
     "name": "stdout",
     "output_type": "stream",
     "text": [
      "115.3, 195.5, 120.5, 110.2, 90.4, 105.6, 110.9, 116.3, 122.3, 125.4\n",
      "mean is:110.218182\n"
     ]
    }
   ],
   "source": [
    "l=list(map(float,input().split(\",\")))\n",
    "res=0\n",
    "j=1\n",
    "for i in l:\n",
    "    res+=i\n",
    "    j=j+1\n",
    "    \n",
    "res1=res/j\n",
    "print('mean is:{:f}'.format(res1))\n"
   ]
  },
  {
   "cell_type": "code",
   "execution_count": 3,
   "metadata": {},
   "outputs": [
    {
     "name": "stdout",
     "output_type": "stream",
     "text": [
      "115.3, 195.5, 120.5, 110.2, 90.4, 105.6, 110.9, 116.3, 122.3, 125.4\n",
      "105.6\n"
     ]
    }
   ],
   "source": [
    "l=list(map(float,input().split(\",\")))\n",
    "i=int(len(l)/2)\n",
    "if(i%2==0):\n",
    "    print((l[i]+l[i+1])/2)\n",
    "else:\n",
    "    print(l[i])"
   ]
  },
  {
   "cell_type": "code",
   "execution_count": 6,
   "metadata": {},
   "outputs": [
    {
     "name": "stdout",
     "output_type": "stream",
     "text": [
      "1,2,1,3\n",
      "1\n"
     ]
    }
   ],
   "source": [
    "l=list(map(int,input().split(\",\")))\n",
    "m1=l[0]\n",
    "for i in l:\n",
    "    if l.count(i)>m1:\n",
    "         m1=i\n",
    "   \n",
    "print(m1)    \n",
    "    "
   ]
  },
  {
   "cell_type": "code",
   "execution_count": 8,
   "metadata": {},
   "outputs": [
    {
     "name": "stdout",
     "output_type": "stream",
     "text": [
      "115.3, 195.5, 120.5, 110.2, 90.4, 105.6, 110.9, 116.3, 122.3, 125.4\n",
      "701.7723999999998\n"
     ]
    }
   ],
   "source": [
    "l=list(map(float,input().split(\",\")))\n",
    "mean=sum(l)/len(l)\n",
    "sum1=0\n",
    "for i in l:\n",
    "    sum1+=(mean-i)**2/len(l)\n",
    "print(sum1)    "
   ]
  },
  {
   "cell_type": "code",
   "execution_count": 9,
   "metadata": {},
   "outputs": [
    {
     "name": "stdout",
     "output_type": "stream",
     "text": [
      "115.3, 195.5, 120.5, 110.2, 90.4, 105.6, 110.9, 116.3, 122.3, 125.4\n",
      "26.490987146574962\n"
     ]
    }
   ],
   "source": [
    "l=list(map(float,input().split(\",\")))\n",
    "mean=sum(l)/len(l)\n",
    "sum1=0\n",
    "for i in l:\n",
    "    sum1+=(mean-i)**2/len(l)\n",
    "print(sum1**0.5) "
   ]
  },
  {
   "cell_type": "code",
   "execution_count": null,
   "metadata": {},
   "outputs": [],
   "source": []
  }
 ],
 "metadata": {
  "kernelspec": {
   "display_name": "Python 3",
   "language": "python",
   "name": "python3"
  },
  "language_info": {
   "codemirror_mode": {
    "name": "ipython",
    "version": 3
   },
   "file_extension": ".py",
   "mimetype": "text/x-python",
   "name": "python",
   "nbconvert_exporter": "python",
   "pygments_lexer": "ipython3",
   "version": "3.7.6"
  }
 },
 "nbformat": 4,
 "nbformat_minor": 4
}
