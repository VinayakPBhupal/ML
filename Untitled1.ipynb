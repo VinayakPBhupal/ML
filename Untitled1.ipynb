{
 "cells": [
  {
   "cell_type": "code",
   "execution_count": 1,
   "metadata": {},
   "outputs": [
    {
     "name": "stdout",
     "output_type": "stream",
     "text": [
      "10 20\n",
      "30\n"
     ]
    }
   ],
   "source": [
    "a,b=map(int,input().split())\n",
    "print(a+b)"
   ]
  },
  {
   "cell_type": "code",
   "execution_count": 2,
   "metadata": {},
   "outputs": [
    {
     "name": "stdout",
     "output_type": "stream",
     "text": [
      "10 20\n",
      "a=20 b=10\n"
     ]
    }
   ],
   "source": [
    "a,b=map(int,input().split())\n",
    "a,b=b,a\n",
    "print('a={:d} b={:d}'.format(a,b))"
   ]
  },
  {
   "cell_type": "code",
   "execution_count": 6,
   "metadata": {},
   "outputs": [
    {
     "name": "stdout",
     "output_type": "stream",
     "text": [
      "10 1 40 30 2 \n",
      "1 2 10 30 40\n"
     ]
    }
   ],
   "source": [
    "#selection sort\n",
    "\n",
    "def selectionsort1(arr):\n",
    "    for i in range(len(arr)):\n",
    "        min1=arr[i]\n",
    "        mi=i\n",
    "        for j in range(i+1,len(arr)):\n",
    "            if arr[j]<min1:\n",
    "                min1=arr[j]\n",
    "                mi=j\n",
    "                \n",
    "        if mi!=i:\n",
    "            arr[i],arr[mi]=arr[mi],arr[i]\n",
    "            \n",
    "    return arr\n",
    "\n",
    "\n",
    "if __name__=='__main__':\n",
    "    arr=list(map(int,input().split()))\n",
    "    res=selectionsort1(arr)\n",
    "    print(' '.join(map(str,arr)))\n",
    "                \n"
   ]
  },
  {
   "cell_type": "code",
   "execution_count": 9,
   "metadata": {},
   "outputs": [
    {
     "name": "stdout",
     "output_type": "stream",
     "text": [
      "{'brand': 'ford', 'model': 'fiesta', 'year': '1969'}\n"
     ]
    }
   ],
   "source": [
    "#dictionary\n",
    "\n",
    "dict1={\n",
    "\"brand\":\"ford\",\n",
    "\"model\":\"fiesta\",\n",
    "\"year\" :\"1969\"  \n",
    "}\n",
    "print(dict1)"
   ]
  },
  {
   "cell_type": "code",
   "execution_count": null,
   "metadata": {},
   "outputs": [],
   "source": [
    "\n",
    "d1={}\n",
    "d1[2]=5\n",
    "d1[7]=9\n",
    "d1[6]=4\n",
    "d1[1]=3\n",
    "d1[0]=8\n",
    "    \n",
    "for i in sorted(d1):\n",
    "    print((i,d1[i]),end=\" \")\n",
    "    \n",
    "    "
   ]
  },
  {
   "cell_type": "code",
   "execution_count": null,
   "metadata": {},
   "outputs": [],
   "source": []
  },
  {
   "cell_type": "code",
   "execution_count": null,
   "metadata": {},
   "outputs": [],
   "source": []
  },
  {
   "cell_type": "code",
   "execution_count": null,
   "metadata": {},
   "outputs": [],
   "source": []
  }
 ],
 "metadata": {
  "kernelspec": {
   "display_name": "Python 3",
   "language": "python",
   "name": "python3"
  },
  "language_info": {
   "codemirror_mode": {
    "name": "ipython",
    "version": 3
   },
   "file_extension": ".py",
   "mimetype": "text/x-python",
   "name": "python",
   "nbconvert_exporter": "python",
   "pygments_lexer": "ipython3",
   "version": "3.7.6"
  }
 },
 "nbformat": 4,
 "nbformat_minor": 4
}
